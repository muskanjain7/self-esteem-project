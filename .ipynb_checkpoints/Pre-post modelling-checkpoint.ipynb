{
 "cells": [
  {
   "cell_type": "code",
   "execution_count": 1,
   "id": "7fa833f4",
   "metadata": {},
   "outputs": [],
   "source": [
    "import os\n",
    "import pickle\n",
    "import numpy as np\n",
    "import pandas as pd\n",
    "import seaborn as sns\n",
    "import statsmodels.api as sm\n",
    "import itertools\n",
    "from scipy import stats\n",
    "\n",
    "from statsmodels.stats.outliers_influence import variance_inflation_factor\n",
    "from IPython.display import display"
   ]
  },
  {
   "cell_type": "code",
   "execution_count": 2,
   "id": "7659b2af",
   "metadata": {},
   "outputs": [],
   "source": [
    "sns.set()\n",
    "\n",
    "pd.set_option('display.max_rows', 100)\n",
    "pd.set_option('display.max_columns', 500)\n",
    "pd.set_option('display.width', 1000)"
   ]
  },
  {
   "cell_type": "code",
   "execution_count": null,
   "id": "83896c28",
   "metadata": {},
   "outputs": [],
   "source": []
  },
  {
   "cell_type": "code",
   "execution_count": 140,
   "id": "9576025f",
   "metadata": {},
   "outputs": [],
   "source": [
    "INPUT_FILE_NAME = \"final_data.csv\""
   ]
  },
  {
   "cell_type": "code",
   "execution_count": 141,
   "id": "2c1eed53",
   "metadata": {},
   "outputs": [],
   "source": [
    "data = pd.read_csv(\n",
    "    os.path.join(os.path.dirname(os.path.realpath(\"__file__\")), \"data\", INPUT_FILE_NAME),\n",
    ")"
   ]
  },
  {
   "cell_type": "code",
   "execution_count": null,
   "id": "98c4340e",
   "metadata": {},
   "outputs": [],
   "source": []
  },
  {
   "cell_type": "code",
   "execution_count": 142,
   "id": "fed40b7e",
   "metadata": {},
   "outputs": [],
   "source": [
    "#'SE', \n",
    "#'nutrition_score', \n",
    "#'parental_connection_score', \n",
    "#'decision_making_score', \n",
    "#'sp_harassment_score', \n",
    "#'mhm_score', \n",
    "#'pi_sa_score', \n",
    "#'body_image_score', \n",
    "#'srh_score'\n",
    "\n",
    "dependent_variable = [\"SE\"]"
   ]
  },
  {
   "cell_type": "code",
   "execution_count": 143,
   "id": "914cc5e3",
   "metadata": {},
   "outputs": [],
   "source": [
    "# 'Age_imp', 'Marital Status', 'Edu Status'\n",
    "\n",
    "independent_variable = [\n",
    "#     'Age_imp',\n",
    "#     'SE',\n",
    "#     'Marital Status',\n",
    "    'Edu Status',\n",
    "#     'sp_harassment_score',\n",
    "#     'mhm_score',\n",
    "#     'pi_sa_score',\n",
    "#     'body_image_score',\n",
    "#     'srh_score'\n",
    "]"
   ]
  },
  {
   "cell_type": "code",
   "execution_count": 144,
   "id": "78397490",
   "metadata": {},
   "outputs": [],
   "source": [
    "data_model = data[independent_variable + dependent_variable]"
   ]
  },
  {
   "cell_type": "code",
   "execution_count": 145,
   "id": "66daf5d1",
   "metadata": {},
   "outputs": [],
   "source": [
    "dtypes = data_model[independent_variable].dtypes\n",
    "cat_variables = dtypes[dtypes=='object'].index.tolist()\n",
    "int_variables = dtypes[(dtypes!='object') & (dtypes!='bool')].index.tolist()\n",
    "bool_variables = dtypes[dtypes=='bool'].index.tolist()"
   ]
  },
  {
   "cell_type": "code",
   "execution_count": 146,
   "id": "b2715115",
   "metadata": {},
   "outputs": [],
   "source": [
    "data_model[bool_variables] = data_model[bool_variables].astype(np.int64)"
   ]
  },
  {
   "cell_type": "code",
   "execution_count": 147,
   "id": "623fbf32",
   "metadata": {},
   "outputs": [],
   "source": [
    "if len(cat_variables)!=0:\n",
    "    data_model_dummy = pd.get_dummies(\n",
    "        data=data_model[cat_variables],\n",
    "        ###################################### IDHAR DEKHO #######################################\n",
    "        drop_first=True,\n",
    "        #########################################################################################\n",
    "    )\n",
    "    data_model = pd.concat([\n",
    "        data_model.drop(columns=cat_variables),\n",
    "        data_model_dummy,\n",
    "        ],\n",
    "        axis=1,\n",
    "    )"
   ]
  },
  {
   "cell_type": "code",
   "execution_count": 148,
   "id": "fac06cd2",
   "metadata": {},
   "outputs": [],
   "source": [
    "model_columns = np.setdiff1d(\n",
    "    np.setdiff1d(\n",
    "        data_model.columns,\n",
    "        cat_variables,\n",
    "    ),\n",
    "    dependent_variable,\n",
    ").tolist()"
   ]
  },
  {
   "cell_type": "code",
   "execution_count": 149,
   "id": "096ab5c7",
   "metadata": {},
   "outputs": [],
   "source": [
    "data_model = sm.add_constant(data_model, prepend=True)"
   ]
  },
  {
   "cell_type": "code",
   "execution_count": 150,
   "id": "11eb6af7",
   "metadata": {},
   "outputs": [],
   "source": [
    "data_model[int_variables + dependent_variable] = (data_model[int_variables + dependent_variable] - data_model[int_variables + dependent_variable].min()) / (data_model[int_variables + dependent_variable].max() - data_model[int_variables + dependent_variable].min())"
   ]
  },
  {
   "cell_type": "code",
   "execution_count": 151,
   "id": "2e432a1b",
   "metadata": {},
   "outputs": [],
   "source": [
    "mod = sm.OLS(\n",
    "    data_model[dependent_variable], \n",
    "    data_model[['const'] + model_columns],\n",
    ")\n",
    "\n",
    "res = mod.fit()"
   ]
  },
  {
   "cell_type": "code",
   "execution_count": 152,
   "id": "f2ce3185",
   "metadata": {},
   "outputs": [
    {
     "name": "stdout",
     "output_type": "stream",
     "text": [
      "                            OLS Regression Results                            \n",
      "==============================================================================\n",
      "Dep. Variable:                     SE   R-squared:                       0.013\n",
      "Model:                            OLS   Adj. R-squared:                  0.011\n",
      "Method:                 Least Squares   F-statistic:                     6.531\n",
      "Date:                Mon, 04 Jul 2022   Prob (F-statistic):             0.0109\n",
      "Time:                        16:03:38   Log-Likelihood:                 162.78\n",
      "No. Observations:                 510   AIC:                            -321.6\n",
      "Df Residuals:                     508   BIC:                            -313.1\n",
      "Df Model:                           1                                         \n",
      "Covariance Type:            nonrobust                                         \n",
      "=======================================================================================\n",
      "                          coef    std err          t      P>|t|      [0.025      0.975]\n",
      "---------------------------------------------------------------------------------------\n",
      "const                   0.5588      0.023     24.152      0.000       0.513       0.604\n",
      "Edu Status_Enrolled     0.0628      0.025      2.556      0.011       0.015       0.111\n",
      "==============================================================================\n",
      "Omnibus:                       14.721   Durbin-Watson:                   1.524\n",
      "Prob(Omnibus):                  0.001   Jarque-Bera (JB):               15.193\n",
      "Skew:                          -0.412   Prob(JB):                     0.000502\n",
      "Kurtosis:                       3.187   Cond. No.                         5.77\n",
      "==============================================================================\n",
      "\n",
      "Notes:\n",
      "[1] Standard Errors assume that the covariance matrix of the errors is correctly specified.\n"
     ]
    }
   ],
   "source": [
    "print(res.summary())"
   ]
  },
  {
   "cell_type": "code",
   "execution_count": null,
   "id": "58f6a30f",
   "metadata": {},
   "outputs": [],
   "source": []
  },
  {
   "cell_type": "code",
   "execution_count": 139,
   "id": "0591ad87",
   "metadata": {},
   "outputs": [],
   "source": [
    "from sklearn.tree import DecisionTreeRegressor\n",
    "from sklearn.ensemble import RandomForestRegressor\n",
    "from sklearn.model_selection import train_test_split\n",
    "from sklearn.metrics import r2_score"
   ]
  },
  {
   "cell_type": "code",
   "execution_count": 123,
   "id": "b5f38911",
   "metadata": {},
   "outputs": [],
   "source": [
    "X_train, X_test, y_train, y_test = train_test_split(\n",
    "    data_model[model_columns],\n",
    "    data_model[dependent_variable], \n",
    "    test_size=0.2, \n",
    "    random_state=42,\n",
    ")"
   ]
  },
  {
   "cell_type": "code",
   "execution_count": 124,
   "id": "7365fd51",
   "metadata": {},
   "outputs": [
    {
     "data": {
      "text/plain": [
       "0.009899758218384958"
      ]
     },
     "execution_count": 124,
     "metadata": {},
     "output_type": "execute_result"
    }
   ],
   "source": [
    "regressor = DecisionTreeRegressor(\n",
    "#     criterion=\"squared_error\",\n",
    "    max_depth=2,\n",
    "    min_samples_split=5,\n",
    "    min_samples_leaf=2,\n",
    "    random_state=0,\n",
    ") \n",
    "regressor.fit(X_train, y_train)\n",
    "\n",
    "y_pred = regressor.predict(X_test)\n",
    "\n",
    "r2_score(y_test, y_pred)"
   ]
  },
  {
   "cell_type": "code",
   "execution_count": 125,
   "id": "54f41ee2",
   "metadata": {},
   "outputs": [
    {
     "name": "stderr",
     "output_type": "stream",
     "text": [
      "<ipython-input-125-313213cea874>:9: DataConversionWarning: A column-vector y was passed when a 1d array was expected. Please change the shape of y to (n_samples,), for example using ravel().\n",
      "  regressor.fit(X_train, y_train)\n"
     ]
    },
    {
     "data": {
      "text/plain": [
       "0.010561585110798521"
      ]
     },
     "execution_count": 125,
     "metadata": {},
     "output_type": "execute_result"
    }
   ],
   "source": [
    "regressor = RandomForestRegressor(\n",
    "    n_estimators=51,\n",
    "    max_depth=2,\n",
    "    min_samples_split=5,\n",
    "    min_samples_leaf=2,\n",
    "    random_state=0,\n",
    ")\n",
    "\n",
    "regressor.fit(X_train, y_train)\n",
    "\n",
    "y_pred = regressor.predict(X_test)\n",
    "\n",
    "r2_score(y_test, y_pred)"
   ]
  },
  {
   "cell_type": "code",
   "execution_count": null,
   "id": "563992a4",
   "metadata": {},
   "outputs": [],
   "source": []
  },
  {
   "cell_type": "code",
   "execution_count": null,
   "id": "7fe1c8ce",
   "metadata": {},
   "outputs": [],
   "source": []
  },
  {
   "cell_type": "code",
   "execution_count": null,
   "id": "aeb16aaf",
   "metadata": {},
   "outputs": [],
   "source": []
  },
  {
   "cell_type": "code",
   "execution_count": null,
   "id": "b1840010",
   "metadata": {},
   "outputs": [],
   "source": []
  },
  {
   "cell_type": "code",
   "execution_count": null,
   "id": "8a6acbce",
   "metadata": {},
   "outputs": [],
   "source": []
  },
  {
   "cell_type": "code",
   "execution_count": null,
   "id": "2a57b405",
   "metadata": {},
   "outputs": [],
   "source": []
  },
  {
   "cell_type": "code",
   "execution_count": null,
   "id": "4b25db03",
   "metadata": {},
   "outputs": [],
   "source": []
  }
 ],
 "metadata": {
  "kernelspec": {
   "display_name": "Python 3",
   "language": "python",
   "name": "python3"
  },
  "language_info": {
   "codemirror_mode": {
    "name": "ipython",
    "version": 3
   },
   "file_extension": ".py",
   "mimetype": "text/x-python",
   "name": "python",
   "nbconvert_exporter": "python",
   "pygments_lexer": "ipython3",
   "version": "3.8.8"
  }
 },
 "nbformat": 4,
 "nbformat_minor": 5
}
